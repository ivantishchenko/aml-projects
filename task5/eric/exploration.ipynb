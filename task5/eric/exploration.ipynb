{
 "cells": [
  {
   "cell_type": "code",
   "execution_count": 1,
   "metadata": {},
   "outputs": [],
   "source": [
    "import numpy as np\n",
    "%matplotlib inline\n",
    "import matplotlib.pyplot as plt"
   ]
  },
  {
   "cell_type": "code",
   "execution_count": 8,
   "metadata": {},
   "outputs": [
    {
     "data": {
      "text/plain": [
       "((64800, 512), (64800, 512), (64800, 512))"
      ]
     },
     "execution_count": 8,
     "metadata": {},
     "output_type": "execute_result"
    }
   ],
   "source": [
    "EEG1_train = np.load('EEG1_train.npy')[:, 1:]\n",
    "EEG2_train = np.load('EEG2_train.npy')[:, 1:]\n",
    "EMG_train = np.load('EMG_train.npy')[:, 1:]\n",
    "Y_train = np.load('Y_train.npy').astype(int)[:, 1]\n",
    "\n",
    "EEG1_test = np.load('EEG1_test.npy')[:, 1:]\n",
    "EEG2_test = np.load('EEG2_test.npy')[:, 1:]\n",
    "EMG_test = np.load('EMG_test.npy')\n",
    "test_ids = EMG_test[:, 0]\n",
    "EMG_test = EMG_test[:, 1:]\n",
    "\n",
    "EEG1_train.shape, EEG2_train.shape, EMG_train.shape"
   ]
  },
  {
   "cell_type": "code",
   "execution_count": 35,
   "metadata": {},
   "outputs": [],
   "source": [
    "np.save('Y_train3.npy', Y_train)"
   ]
  },
  {
   "cell_type": "code",
   "execution_count": 38,
   "metadata": {},
   "outputs": [
    {
     "data": {
      "text/plain": [
       "0.9610796462908379"
      ]
     },
     "execution_count": 38,
     "metadata": {},
     "output_type": "execute_result"
    }
   ],
   "source": [
    "(np.diff(Y_train) == 0).mean()"
   ]
  },
  {
   "cell_type": "code",
   "execution_count": 17,
   "metadata": {},
   "outputs": [
    {
     "data": {
      "text/plain": [
       "<matplotlib.image.AxesImage at 0x115ed2358>"
      ]
     },
     "execution_count": 17,
     "metadata": {},
     "output_type": "execute_result"
    },
    {
     "data": {
      "image/png": "[encoded data removed]",
      "text/plain": [
       "<Figure size 432x288 with 1 Axes>"
      ]
     },
     "metadata": {
      "needs_background": "light"
     },
     "output_type": "display_data"
    }
   ],
   "source": [
    "# Transition matrix\n",
    "T = np.zeros((3, 3))\n",
    "\n",
    "for i in range(1, len(Y_train)):\n",
    "    if i % 21600 == 0: continue\n",
    "    T[Y_train[i-1]-1, Y_train[i]-1] += 1\n",
    "\n",
    "plt.imshow(T / T.sum(axis=1))"
   ]
  },
  {
   "cell_type": "code",
   "execution_count": 33,
   "metadata": {},
   "outputs": [
    {
     "name": "stderr",
     "output_type": "stream",
     "text": [
      "/usr/local/lib/python3.7/site-packages/ipykernel_launcher.py:3: FutureWarning: Using a non-tuple sequence for multidimensional indexing is deprecated; use `arr[tuple(seq)]` instead of `arr[seq]`. In the future this will be interpreted as an array index, `arr[np.array(seq)]`, which will result either in an error or a different result.\n",
      "  This is separate from the ipykernel package so we can avoid doing imports until\n"
     ]
    }
   ],
   "source": [
    "def autoreg_features(Y, window_size=5):\n",
    "    Y_onehot = np.zeros((len(Y), 3))\n",
    "    Y_onehot[[np.arange(len(Y)), Y-1]] = 1\n",
    "\n",
    "    features = np.zeros((len(Y), window_size, 3))\n",
    "\n",
    "    for i in range(len(Y)):\n",
    "        for j in range(min(window_size, i)):\n",
    "            features[i, j] = Y_onehot[i-j]\n",
    "\n",
    "    return features.reshape((len(Y), -1))\n",
    "\n",
    "ar = autoreg_features(Y_train)"
   ]
  },
  {
   "cell_type": "code",
   "execution_count": 34,
   "metadata": {},
   "outputs": [
    {
     "data": {
      "text/plain": [
       "(64800, 15)"
      ]
     },
     "execution_count": 34,
     "metadata": {},
     "output_type": "execute_result"
    }
   ],
   "source": [
    "ar.shape"
   ]
  },
  {
   "cell_type": "code",
   "execution_count": 6,
   "metadata": {},
   "outputs": [
    {
     "data": {
      "image/png": "[encoded data removed]",
      "text/plain": [
       "<Figure size 432x288 with 1 Axes>"
      ]
     },
     "metadata": {
      "needs_background": "light"
     },
     "output_type": "display_data"
    }
   ],
   "source": [
    "bins = np.linspace(-.004,.004, 100)\n",
    "plt.hist(np.diff(EEG1_test).ravel(), bins, alpha=.5, density=True);\n",
    "plt.hist(EEG1_test[:-1,-1] - EEG1_test[1:,0], bins, color='r', alpha=.5, density=True);"
   ]
  },
  {
   "cell_type": "code",
   "execution_count": 7,
   "metadata": {},
   "outputs": [
    {
     "data": {
      "text/plain": [
       "(array([435., 230., 203., 149., 120.,  97.,  70.,  63.,  74.,  67.,  56.,\n",
       "         68.,  57.,  48.,  45.,  36.,  41.,  43.,  34.,  39.,  25.,  17.,\n",
       "         28.,  29.,  32.,  22.,  11.,  14.,  22.,  12.,  11.,  14.,  22.,\n",
       "         13.,   9.,  15.,   8.,  10.,   7.,   6.,   6.,  10.,   7.,   4.,\n",
       "          5.,   1.,   3.,   1.,   5.,   6.]),\n",
       " array([ 0.,  1.,  2.,  3.,  4.,  5.,  6.,  7.,  8.,  9., 10., 11., 12.,\n",
       "        13., 14., 15., 16., 17., 18., 19., 20., 21., 22., 23., 24., 25.,\n",
       "        26., 27., 28., 29., 30., 31., 32., 33., 34., 35., 36., 37., 38.,\n",
       "        39., 40., 41., 42., 43., 44., 45., 46., 47., 48., 49., 50.]),\n",
       " <a list of 50 Patch objects>)"
      ]
     },
     "execution_count": 7,
     "metadata": {},
     "output_type": "execute_result"
    },
    {
     "data": {
      "image/png": "[encoded data removed]",
      "text/plain": [
       "<Figure size 432x288 with 1 Axes>"
      ]
     },
     "metadata": {
      "needs_background": "light"
     },
     "output_type": "display_data"
    }
   ],
   "source": [
    "runlens = []\n",
    "current, current_len = Y_train[0], 1\n",
    "\n",
    "for y in Y_train[1:]:\n",
    "    if y == current: current_len += 1\n",
    "    else: \n",
    "        runlens.append(current_len)\n",
    "        current, current_len = y, 0\n",
    "        \n",
    "plt.hist(runlens, bins=np.linspace(0, 50, 51))"
   ]
  },
  {
   "cell_type": "markdown",
   "metadata": {},
   "source": [
    "# Ideas\n",
    "  - Exploit continuity:\n",
    "      - Join training data and cut random windows when consecutive labels are equal\n",
    "      - In prediction?\n",
    "      - Give more weight to signals in long runs\n",
    "  - "
   ]
  },
  {
   "cell_type": "code",
   "execution_count": 52,
   "metadata": {},
   "outputs": [
    {
     "data": {
      "text/plain": [
       "array([ 0.,  1.,  2.,  3.,  4.,  5.,  6.,  7.,  8.,  9., 10.])"
      ]
     },
     "execution_count": 52,
     "metadata": {},
     "output_type": "execute_result"
    }
   ],
   "source": [
    "np.linspace(0,10,11)"
   ]
  },
  {
   "cell_type": "code",
   "execution_count": 54,
   "metadata": {},
   "outputs": [
    {
     "data": {
      "text/plain": [
       "(43200, 512)"
      ]
     },
     "execution_count": 54,
     "metadata": {},
     "output_type": "execute_result"
    }
   ],
   "source": [
    "EEG1_test.shape"
   ]
  },
  {
   "cell_type": "code",
   "execution_count": 56,
   "metadata": {},
   "outputs": [],
   "source": [
    "X_train_features = np.load('jonathan/X_train3.npy')"
   ]
  },
  {
   "cell_type": "code",
   "execution_count": 69,
   "metadata": {},
   "outputs": [],
   "source": [
    "def reslice(data, labels):\n",
    "    # Extract runs\n",
    "    run_data, run_labels = [], []\n",
    "    current_label, current_run = labels[0], [data[0]]\n",
    "\n",
    "    for data_slice, label in zip(data[1:], labels[1:]):\n",
    "        if label == current_label:\n",
    "            current_run.append(data_slice)\n",
    "        else: \n",
    "            run_data.append(np.concatenate(current_run))\n",
    "            run_labels.append(current_label)\n",
    "            current_label, current_run = label, [data_slice]\n",
    "    run_data.append(np.concatenate(current_run))\n",
    "    run_labels.append(current_label)\n",
    "\n",
    "    # Slice runs\n",
    "    slice_length = data.shape[1]\n",
    "    slices, slice_labels = [], []\n",
    "    for data_slice, label in zip(run_data, run_labels):\n",
    "        pos = 0\n",
    "    \n",
    "        while pos + slice_length <= len(data_slice):\n",
    "            slices.append(data_slice[pos:pos + slice_length])\n",
    "            slice_labels.append(label)\n",
    "            pos += np.random.randint(slice_length // 4, slice_length // 2)\n",
    "        \n",
    "        if pos != len(data_slice):\n",
    "            slices.append(data_slice[-slice_length:])\n",
    "            slice_labels.append(label)\n",
    "            \n",
    "    return np.array(slices), np.array(labels)"
   ]
  },
  {
   "cell_type": "code",
   "execution_count": 75,
   "metadata": {},
   "outputs": [],
   "source": [
    "sx, sy = reslice(np.stack((EEG1_train, EEG2_train, EMG_train), axis=2), Y_train)"
   ]
  },
  {
   "cell_type": "code",
   "execution_count": 80,
   "metadata": {},
   "outputs": [
    {
     "data": {
      "text/plain": [
       "True"
      ]
     },
     "execution_count": 80,
     "metadata": {},
     "output_type": "execute_result"
    }
   ],
   "source": [
    "np.all(test_ids.astype(int) == np.arange(len(test_ids)))"
   ]
  },
  {
   "cell_type": "code",
   "execution_count": 65,
   "metadata": {},
   "outputs": [
    {
     "data": {
      "text/plain": [
       "(64800, 512)"
      ]
     },
     "execution_count": 65,
     "metadata": {},
     "output_type": "execute_result"
    }
   ],
   "source": [
    "EEG1_train.shape"
   ]
  },
  {
   "cell_type": "code",
   "execution_count": null,
   "metadata": {},
   "outputs": [],
   "source": []
  }
 ],
 "metadata": {
  "kernelspec": {
   "display_name": "Python 3",
   "language": "python",
   "name": "python3"
  },
  "language_info": {
   "codemirror_mode": {
    "name": "ipython",
    "version": 3
   },
   "file_extension": ".py",
   "mimetype": "text/x-python",
   "name": "python",
   "nbconvert_exporter": "python",
   "pygments_lexer": "ipython3",
   "version": "3.7.1"
  }
 },
 "nbformat": 4,
 "nbformat_minor": 2
}
