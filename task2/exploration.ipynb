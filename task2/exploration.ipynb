{
 "cells": [
  {
   "cell_type": "code",
   "execution_count": 1,
   "metadata": {},
   "outputs": [],
   "source": [
    "import numpy as np\n",
    "import sklearn\n",
    "import sklearn.model_selection\n",
    "import sklearn.linear_model\n",
    "import sklearn.ensemble\n",
    "import sklearn.decomposition\n",
    "import sklearn.svm\n",
    "import matplotlib.pyplot as plt\n",
    "import sys"
   ]
  },
  {
   "cell_type": "code",
   "execution_count": 2,
   "metadata": {},
   "outputs": [],
   "source": [
    "# Read data\n",
    "X_test  = np.genfromtxt('X_test.csv', delimiter=',', skip_header=1)[:, 1:]\n",
    "X_train = np.genfromtxt('X_train.csv', delimiter=',', skip_header=1)[:, 1:]\n",
    "Y_train = np.genfromtxt('Y_train.csv', delimiter=',', skip_header=1)[:, 1:]"
   ]
  },
  {
   "cell_type": "code",
   "execution_count": 35,
   "metadata": {},
   "outputs": [
    {
     "data": {
      "text/plain": [
       "array([0.125, 0.75 , 0.125])"
      ]
     },
     "execution_count": 35,
     "metadata": {},
     "output_type": "execute_result"
    }
   ],
   "source": [
    "class_dist = np.bincount(Y_train.astype(int).ravel())\n",
    "weights = class_dist / class_dist.sum()\n",
    "weights"
   ]
  },
  {
   "cell_type": "code",
   "execution_count": null,
   "metadata": {},
   "outputs": [],
   "source": [
    "assert(len(sys.argv) > 1)\n",
    "\n",
    "OUTLIER_THRESHOLD = 2\n",
    "MAX_OUTLIERS_PER_ROW = 20\n",
    "\n",
    "train_score, val_score = [], []\n",
    "\n",
    "for state in range(8, 10):\n",
    "\t# Read data\n",
    "\tX_test  = np.genfromtxt('X_test.csv', delimiter=',', skip_header=1)\n",
    "\tX_train = np.genfromtxt('X_train.csv', delimiter=',', skip_header=1)\n",
    "\tY_train = np.genfromtxt('Y_train.csv', delimiter=',', skip_header=1)\n",
    "\n",
    "\t# Train/test split\n",
    "\tif state < 9:\n",
    "\t\tX_train, X_val, Y_train, Y_val = sklearn.model_selection.train_test_split(X_train, Y_train, \n",
    "\t\t\t\t\t\t\t\t\t\t\t\t\t\t\t\t\t\t\t\t  test_size=.1, \n",
    "\t\t\t\t\t\t\t\t\t\t\t\t\t\t\t\t\t\t\t\t  random_state=state)\n",
    "\telse:\n",
    "\t\tX_val = X_test.copy()\n",
    "\t\tY_val = np.zeros((X_val.shape[0], 2))\n",
    "\n",
    "\t# Scale y\n",
    "\ty_scaler = sklearn.preprocessing.RobustScaler(with_scaling=False, with_centering=False)\n",
    "\ty_scaler.fit([[0],[0]])\n",
    "\tY_train, Y_val = Y_train[:, 1:], Y_val[:, 1:]\n",
    "\t# Y_train = y_scaler.fit_transform(Y_train[:, 1:])\n",
    "\t# Y_val = y_scaler.transform(Y_val[:, 1:])\n",
    "\n",
    "\t# Scale x\n",
    "\tx_medians = np.nanmedian(X_train, axis=0)\n",
    "\tX_train = np.nan_to_num(X_train - x_medians)\n",
    "\tX_val = np.nan_to_num(X_val - x_medians)\n",
    "\n",
    "\tx_scaler = sklearn.preprocessing.RobustScaler()\n",
    "\tX_train = x_scaler.fit_transform(X_train)\n",
    "\tX_val = x_scaler.transform(X_val)\n",
    "\n",
    "\t# Remove outliers\n",
    "\tX_train_outliers = np.abs(X_train) > OUTLIER_THRESHOLD\n",
    "\tX_train[X_train_outliers] = 0\n",
    "\tX_val[np.abs(X_val) > OUTLIER_THRESHOLD] = 0\n",
    "\n",
    "\t# Remove outlier samples from training set\n",
    "\tX_train = X_train[X_train_outliers.sum(axis=1) <= MAX_OUTLIERS_PER_ROW, :]\n",
    "\tY_train = Y_train[X_train_outliers.sum(axis=1) <= MAX_OUTLIERS_PER_ROW]\n",
    "\n",
    "\t# assert(np.all(np.abs(X_train) <= OUTLIER_THRESHOLD) and np.all(np.abs(X_val) <= OUTLIER_THRESHOLD))\n",
    "\tassert(not np.any(np.isnan(X_train)) and not np.any(np.isnan(X_val)))\n",
    "\n",
    "\tlinreg = sklearn.ensemble.RandomForestRegressor(min_samples_leaf=2, n_estimators=128)\n",
    "\tlinreg.fit(X_train[:, 1:], Y_train[:, 0])\n",
    "\n",
    "\tif state < 9:\n",
    "\t\ttrain_score.append(sklearn.metrics.r2_score(y_scaler.inverse_transform(Y_train), y_scaler.inverse_transform(linreg.predict(X_train[:, 1:])[:, np.newaxis])))\n",
    "\t\tval_score.append(sklearn.metrics.r2_score(y_scaler.inverse_transform(Y_val), y_scaler.inverse_transform(linreg.predict(X_val[:, 1:])[:, np.newaxis])))\n",
    "\n",
    "\n",
    "print('Training set:   %.3f ±%.3f' % (np.mean(train_score), np.var(train_score)))\n",
    "print('Validation set: %.3f ±%.3f' % (np.mean(val_score), np.var(val_score)))\n",
    "\n",
    "Y_test = y_scaler.inverse_transform(linreg.predict(X_val[:,1:])[:, np.newaxis])\n",
    "np.savetxt(\"Y_test_%s.csv\" % sys.argv[1], np.concatenate(( X_test[:, :1], Y_test ), axis=1), \n",
    "\tdelimiter=\",\", header=\"id,y\", fmt='%.5f', comments='')"
   ]
  }
 ],
 "metadata": {
  "kernelspec": {
   "display_name": "Python 3",
   "language": "python",
   "name": "python3"
  },
  "language_info": {
   "codemirror_mode": {
    "name": "ipython",
    "version": 3
   },
   "file_extension": ".py",
   "mimetype": "text/x-python",
   "name": "python",
   "nbconvert_exporter": "python",
   "pygments_lexer": "ipython3",
   "version": "3.7.0"
  }
 },
 "nbformat": 4,
 "nbformat_minor": 2
}
